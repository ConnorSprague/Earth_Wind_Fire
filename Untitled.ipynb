{
 "cells": [
  {
   "cell_type": "code",
   "execution_count": 89,
   "metadata": {},
   "outputs": [],
   "source": [
    "\"\"\"\n",
    "Created on Fri Nov 22 14:22:07 2019\n",
    "\n",
    "@author: fo628e\n",
    "\"\"\"\n",
    "\n",
    "import requests\n",
    "from datetime import date\n",
    "\n",
    "class date_formatter:\n",
    "    today = date.today()\n",
    "\n",
    "    def __init__(self):\n",
    "        self.day_number = self.today.strftime(\"%d\") #string, 22\n",
    "        self.month = self.today.strftime(\"%B\") #November\n",
    "        self.basic_day = self.today.strftime(\"%B %d\") #November 22\n",
    "        self.shorthand_ordinal = 'empty'\n",
    "        self.longhand_ordinal = 'empty'\n",
    "        self.num_to_text = 'empty'\n",
    "        \n",
    "\n",
    "    def num2words(self):\n",
    "        num = int(self.day_number)\n",
    "        under_20 = ['Zero','One','Two','Three','Four','Five','Six','Seven','Eight','Nine',\n",
    "                    'Ten','Eleven','Twelve','Thirteen','Fourteen','Fifteen','Sixteen','Seventeen','Eighteen','Nineteen']\n",
    "        tens = ['Twenty','Thirty']\n",
    "    \n",
    "        if num < 20:\n",
    "            self.num_to_text = under_20[num]\n",
    "        else:\n",
    "            self.num_to_text = tens[(int)(num/10)-2] + ('' if num%10==0 else ' ' + under_20[num%10])\n",
    "            \n",
    "        return(self.month+' '+self.num_to_text)\n",
    "            \n",
    "    def shorthand_date_ordinals(self):\n",
    "        #date must be string\n",
    "        #returns format; 22nd\n",
    "        num = self.day_number\n",
    "        last_digit = num[-1]\n",
    "        suffix = ''\n",
    "        if int(num) in range(11,19):\n",
    "            suffix = 'th'\n",
    "        elif last_digit=='1':\n",
    "            suffix = 'st'\n",
    "        elif last_digit=='2':\n",
    "            suffix = 'nd'\n",
    "        elif last_digit=='3':\n",
    "            suffix = 'rd'\n",
    "        else:\n",
    "            suffix = 'th'\n",
    "        self.shorthand_ordinal = num+suffix\n",
    "        return(self.month+' '+self.shorthand_ordinal)\n",
    "        \n",
    "    def longhand_date_ordinals(self):\n",
    "        #returns format: Twenty Second\n",
    "        num = self.day_number\n",
    "#        hold = self.num_to_text.split(' ')\n",
    "#        if num \n",
    "#        non_zeroes = ['','first','second','third','fourth','fifth','sixth','seventh','eighth','ninth']\n",
    "#        power = str(hold[0])\n",
    "#        last_digit = num[-1]\n",
    "#        if int(num) % 10 != 0:\n",
    "#            self.longhand_ordinal = self.month+' '+power\n",
    "        cheaters_translation = ['','first','second','third','fourth','fifth','sixth','seventh','eighth','ninth',\n",
    "                       'tenth','eleventh','twelfth','thirteenth','fourteenth','fifteenth','sixteenth','seventeenth',\n",
    "                       'eighteenth','nineteenth','twentieth','twenty-first','twenty-second','twenty-third','twenty-fourth',\n",
    "                       'twenty-fifth','twenty-sixth','twenty-seventh','twenty-eighth','twenty-nineth','thirtieth', 'thirty-first']\n",
    "        self.longhand_ordinal = self.month+' '+cheaters_translation[int(num)]\n",
    "        return(self.longhand_ordinal)\n",
    "    \n",
    "    def my_dates(self):\n",
    "        return([self.basic_day, self.num2words(),\n",
    "                        self.shorthand_date_ordinals(),\n",
    "                        self.longhand_date_ordinals()])\n",
    "\n"
   ]
  },
  {
   "cell_type": "code",
   "execution_count": 125,
   "metadata": {},
   "outputs": [
    {
     "data": {
      "text/plain": [
       "'December 12'"
      ]
     },
     "execution_count": 125,
     "metadata": {},
     "output_type": "execute_result"
    }
   ],
   "source": [
    "obj = date_formatter()\n",
    "obj.basic_day"
   ]
  },
  {
   "cell_type": "code",
   "execution_count": 140,
   "metadata": {},
   "outputs": [],
   "source": [
    "class musixmatch:\n",
    "#API KEY\n",
    "#ca6d099d26a175c667504ccdfac8489f\n",
    "\n",
    "#API inputs\n",
    "#q for query\n",
    "#Most popular Songs about today   http://api.musixmatch.com/ws/1.1/apikey=ca6d099d26a175c667504ccdfac8489f&track.search?q={my dates}&s_track_rating=desc\n",
    "#Most popular songs songs released today http://api.musixmatch.com/ws/1.1/track.search?f_track_release_group_first_release_date_min={YYYYMMDD}&f_track_release_group_first_release_date_max={YYYYMMDD}&s_track_rating=desc\n",
    "    def __init__(self):\n",
    "        self.date_object = date_formatter()\n",
    "        self.date_array = self.date_object.my_dates()\n",
    "        #request params\n",
    "        self.sort_type = '&s_track_rating=desc'\n",
    "        self.root_url = 'http://api.musixmatch.com/ws/1.1/'\n",
    "        def get_api():\n",
    "            api = '&apikey=ca6d099d26a175c667504ccdfac8489f'\n",
    "            return(api)\n",
    "        \n",
    "    def request(self,result_len,about_today=True, released_today=True):\n",
    "        requests = []\n",
    "        if about_today == True:\n",
    "            query_type = 'track.search?q='\n",
    "            requests.append(requests_helper(query_type))\n",
    "            \n",
    "        if released_today == True:\n",
    "            api = get_api()\n",
    "            query_date = datetime.strptime(my_string, \"%Y%m%d\")\n",
    "            query_type = 'track.search?f_track_release_group_first_release_date_min={YYYYMMDD}&f_track_release_group_first_release_date_max={YYYYMMDD}'.format()\n",
    "            requests_arr = [root_url+self.query_type+i+self.sort_type+api for i in self.date_array]\n",
    "            requests.append(requests_arr)\n",
    "            \n",
    "        #format input dates into string\n",
    "        def requests_helper(query_type):\n",
    "            api = get_api()\n",
    "            requests_arr = [root_url+self.query_type+i+self.sort_type+api for i in self.date_array]\n",
    "            for req in requests_arr:\n",
    "                response = requests.get(req)\n",
    "                result = response.json()\n",
    "                \n",
    "            return(requests_arr)\n",
    "        \n",
    "        return()\n",
    "        \n",
    "\n",
    "        "
   ]
  },
  {
   "cell_type": "code",
   "execution_count": 141,
   "metadata": {},
   "outputs": [
    {
     "ename": "AttributeError",
     "evalue": "'musixmatch' object has no attribute 'api'",
     "output_type": "error",
     "traceback": [
      "\u001b[1;31m---------------------------------------------------------------------------\u001b[0m",
      "\u001b[1;31mAttributeError\u001b[0m                            Traceback (most recent call last)",
      "\u001b[1;32m<ipython-input-141-adf2c96a59b5>\u001b[0m in \u001b[0;36m<module>\u001b[1;34m\u001b[0m\n\u001b[0;32m      1\u001b[0m \u001b[0mobjj\u001b[0m \u001b[1;33m=\u001b[0m \u001b[0mmusixmatch\u001b[0m\u001b[1;33m(\u001b[0m\u001b[1;33m)\u001b[0m\u001b[1;33m\u001b[0m\u001b[1;33m\u001b[0m\u001b[0m\n\u001b[1;32m----> 2\u001b[1;33m \u001b[0mobjj\u001b[0m\u001b[1;33m.\u001b[0m\u001b[0mapi\u001b[0m\u001b[1;33m\u001b[0m\u001b[1;33m\u001b[0m\u001b[0m\n\u001b[0m",
      "\u001b[1;31mAttributeError\u001b[0m: 'musixmatch' object has no attribute 'api'"
     ]
    }
   ],
   "source": [
    "objj = musixmatch()\n"
   ]
  },
  {
   "cell_type": "code",
   "execution_count": null,
   "metadata": {},
   "outputs": [],
   "source": [
    "class EWF_Result:\n",
    "    \n",
    "    def __init__(self):\n",
    "        \n",
    "    def top(self,count):\n",
    "        \n",
    "    def top_explicit(self, count):\n",
    "        \n",
    "    def top_instrumental(self, count):\n",
    "        \n",
    "        "
   ]
  },
  {
   "cell_type": "code",
   "execution_count": 48,
   "metadata": {},
   "outputs": [
    {
     "data": {
      "text/plain": [
       "dict"
      ]
     },
     "execution_count": 48,
     "metadata": {},
     "output_type": "execute_result"
    }
   ],
   "source": [
    "import json\n",
    "response = requests.get('http://api.musixmatch.com/ws/1.1/track.search?q=December 12th&s_track_rating=desc&apikey=ca6d099d26a175c667504ccdfac8489f')\n",
    "#response.json()\n",
    "r = response.json()\n",
    "head = r['message']\n",
    "body = head['body']\n",
    "tracks = body['track_list']\n",
    "tracks[1]"
   ]
  },
  {
   "cell_type": "code",
   "execution_count": 79,
   "metadata": {},
   "outputs": [],
   "source": [
    "def main():\n",
    "    my_date = date_formatter()\n",
    "\n",
    "    today_date_array = [my_date.basic_day, my_date.num2words(),\n",
    "                        my_date.shorthand_date_ordinals(),\n",
    "                        my_date.longhand_date_ordinals()]\n",
    "    request_string = ''\n",
    "    for i in today_date_array:\n",
    "        print(i)\n",
    "        request_string = request_string + i + ','\n",
    "    request_string = request_string[:-1]\n",
    "    dates = [i for i in today_date_array]\n",
    "    print(dates)"
   ]
  },
  {
   "cell_type": "code",
   "execution_count": 80,
   "metadata": {},
   "outputs": [
    {
     "name": "stdout",
     "output_type": "stream",
     "text": [
      "December 12\n",
      "December Twelve\n",
      "December 12th\n",
      "December twelfth\n",
      "['December 12', 'December Twelve', 'December 12th', 'December twelfth']\n"
     ]
    }
   ],
   "source": [
    "\n",
    "main()"
   ]
  }
 ],
 "metadata": {
  "kernelspec": {
   "display_name": "Python 3",
   "language": "python",
   "name": "python3"
  },
  "language_info": {
   "codemirror_mode": {
    "name": "ipython",
    "version": 3
   },
   "file_extension": ".py",
   "mimetype": "text/x-python",
   "name": "python",
   "nbconvert_exporter": "python",
   "pygments_lexer": "ipython3",
   "version": "3.6.9"
  }
 },
 "nbformat": 4,
 "nbformat_minor": 4
}
